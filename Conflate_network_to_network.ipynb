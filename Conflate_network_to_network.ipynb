{
 "cells": [
  {
   "cell_type": "code",
   "execution_count": 1,
   "metadata": {
    "collapsed": false,
    "deletable": true,
    "editable": true
   },
   "outputs": [],
   "source": [
    "import arcpy as ap\n",
    "import os\n",
    "import cmath\n",
    "from collections import defaultdict\n",
    "from collections import Counter\n",
    "\n",
    "\n",
    "# function to return coordinates from arc point object\n",
    "def coordinates_of(point_object):\n",
    "    x = round(point_object.X,5)\n",
    "    y = round(point_object.Y,5)\n",
    "\n",
    "    return x,y\n",
    "\n",
    "\n",
    "def ten_meters_as_percentage(of_a_line):\n",
    "    of_line_length = of_a_line.length\n",
    "    percentage_of_line = float(10)/float(of_line_length)\n",
    "    \n",
    "    return percentage_of_line\n",
    "\n",
    "\n",
    "# function to return coordinates of the point x meters from the start or end of a line:\n",
    "def point_ten_meters_from_the_start(of_a_line):\n",
    "    point_10m_from_start = of_a_line.positionAlongLine(ten_meters_as_percentage(of_a_line), True).firstPoint\n",
    "    \n",
    "    return coordinates_of(point_10m_from_start)\n",
    "    \n",
    "    \n",
    "# function to return coordinates of the point x meters from the start or end of a line:\n",
    "def point_ten_meters_from_the_end(of_a_line):\n",
    "    point_10m_from_end = of_a_line.positionAlongLine(1 -ten_meters_as_percentage(of_a_line), True).firstPoint\n",
    "    \n",
    "    return coordinates_of(point_10m_from_end)\n",
    "\n",
    "\n",
    "# function to calculate the angle between two sets of coordinatesdef angle_between(first_point_coordinates, last_point_coordinates):\n",
    "def angle_between(point_a_coordinates, point_b_coordinates): \n",
    "    x1, y1 = float(point_a_coordinates[0]), float(point_a_coordinates[1])\n",
    "    x2, y2 = float(point_b_coordinates[0]), float(point_b_coordinates[1])\n",
    "\n",
    "    polarcoords = cmath.polar(complex(x2 - x1, y2 - y1))\n",
    "    \n",
    "    if math.degrees(polarcoords[1]) <= 90:\n",
    "        degrees = 90 - math.degrees(polarcoords[1])\n",
    "    else:\n",
    "        degrees = 450 - math.degrees(polarcoords[1])\n",
    "\n",
    "    return round(degrees, 1)\n",
    "\n",
    "\n",
    "def angle_of_first_10m(of_a_line):\n",
    "    the_lines = of_a_line\n",
    "    first_point = coordinates_of(the_lines.firstPoint)\n",
    "    point_10m_from_start = point_ten_meters_from_the_start(of_a_line)\n",
    "    angle = angle_between(first_point, point_10m_from_start)\n",
    "   \n",
    "    return angle\n",
    "    \n",
    "    \n",
    "def angle_of_last_10m(of_a_line):\n",
    "    the_lines = of_a_line\n",
    "    last_point = coordinates_of(the_lines.lastPoint)\n",
    "    point_10m_from_end = point_ten_meters_from_the_end(of_a_line)\n",
    "    angle = angle_between(last_point, point_10m_from_end)\n",
    "    \n",
    "    return angle"
   ]
  },
  {
   "cell_type": "code",
   "execution_count": 2,
   "metadata": {
    "collapsed": true,
    "deletable": true,
    "editable": true
   },
   "outputs": [],
   "source": [
    "local_shapefiles_directory = r'C:\\Users\\mcintyrei\\Desktop\\Projects\\Conflating_Networks' + '\\\\network_shapefiles'\n",
    "local_geodatabase = r'C:\\Users\\mcintyrei\\Desktop\\Projects\\Conflating_Networks' + '\\\\working_files.gdb'\n",
    "\n",
    "#local_shapefiles_directory = os.getcwd() + '\\\\network_shapefiles'\n",
    "#local_geodatabase = os.getcwd() + '\\\\working_files.gdb'\n",
    "\n",
    "ap.env.workspace = local_shapefiles_directory\n",
    "network_shapefiles = ap.ListFeatureClasses()\n",
    "\n",
    "ap.SpatialReference(102382)\n",
    "spatial_reference = ap.SpatialReference(102382)\n",
    "\n",
    "ap.env.workspace = local_geodatabase"
   ]
  },
  {
   "cell_type": "code",
   "execution_count": 3,
   "metadata": {
    "collapsed": false,
    "deletable": true,
    "editable": true
   },
   "outputs": [],
   "source": [
    "# creating necesarry files in local geodatabase\n",
    "if ap.Exists(local_geodatabase) == False:\n",
    "    ap.CreateFileGDB_management(os.getcwd(), 'working_files.gdb')\n",
    "    \n",
    "for each_network in network_shapefiles:\n",
    "    network_name = ap.Describe(local_shapefiles_directory + '//' + each_network).baseName\n",
    "\n",
    "    if ap.Exists('%s_to_line' % network_name) == False:       \n",
    "        ap.FeatureToLine_management(local_shapefiles_directory + '//%s.shp' % network_name,\n",
    "                                    '%s_to_line' % network_name)\n",
    "        \n",
    "    if ap.Exists('%s_dissolved_to_line' % network_name) == False:       \n",
    "        ap.Dissolve_management(local_shapefiles_directory + '//%s.shp' % network_name, \n",
    "                                   'in_memory\\\\%s_dissolved'% network_name,\n",
    "                                   '',\n",
    "                                   '',\n",
    "                                   'MULTI_PART',\n",
    "                                   'DISSOLVE_LINES')\n",
    "                \n",
    "        ap.FeatureToLine_management('in_memory\\\\%s_dissolved' % network_name,\n",
    "                                            '%s_dissolved_to_line' % network_name)\n",
    "        \n",
    "        ap.Delete_management('in_memory\\\\%s_dissolved' % network_name)"
   ]
  },
  {
   "cell_type": "code",
   "execution_count": 4,
   "metadata": {
    "collapsed": false,
    "deletable": true,
    "editable": true
   },
   "outputs": [],
   "source": [
    "for each_network in network_shapefiles:\n",
    "    network_name = ap.Describe(local_shapefiles_directory + '\\\\' + each_network).baseName\n",
    "    \n",
    "  \n",
    "    if ap.Exists('%s_crossings' % network_name) == False:\n",
    "        ap.CreateFeatureclass_management(local_geodatabase, '%s_crossings' % network_name,\n",
    "                                         'POINT',\n",
    "                                         '',\n",
    "                                         '',\n",
    "                                         '',\n",
    "                                         spatial_reference)\n",
    "    else:\n",
    "        ap.DeleteRows_management('%s_crossings' % network_name)\n",
    "                     \n",
    "        \n",
    "    for field in ['intersections', 'overpasses', 'dissolved_angles', 'dissolved_ids', 'notes']:\n",
    "\n",
    "        try:\n",
    "            ap.AddField_management('%s/%s_crossings' % (local_geodatabase, network_name),\n",
    "                                       '%s_%s' % (network_name[:3], field),\n",
    "                                       'STRING')\n",
    "        except: \n",
    "            pass"
   ]
  },
  {
   "cell_type": "code",
   "execution_count": 7,
   "metadata": {
    "collapsed": false,
    "deletable": true,
    "editable": true
   },
   "outputs": [],
   "source": [
    "overpass_dictionary = {}\n",
    "\n",
    "for each_network in network_shapefiles:\n",
    "    network_name = ap.Describe(local_shapefiles_directory + '\\\\' + each_network).baseName\n",
    "    \n",
    "    with ap.da.SearchCursor('%s_to_line' % network_name,\n",
    "                        'FID_%s' % network_name,\n",
    "                        sql_clause = (None,'ORDER BY FID_%s' % network_name))as overpass_cursor:\n",
    "        \n",
    "        overpass_dictionary[network_name] = []\n",
    "        last_feature_id = None\n",
    "    \n",
    "        for each_feature in overpass_cursor:\n",
    "            feature_id = each_feature[0]\n",
    "        \n",
    "            if feature_id == last_feature_id:\n",
    "                overpass_dictionary[network_name].append(last_feature_id)\n",
    "                \n",
    "            else:\n",
    "                pass\n",
    "            \n",
    "            last_feature_id = feature_id\n",
    "    try:\n",
    "        ap.MakeFeatureLayer_management('%s_to_line' % network_name,\n",
    "                                   '%s_to_line_lyr' % network_name)\n",
    "    except:\n",
    "        pass"
   ]
  },
  {
   "cell_type": "code",
   "execution_count": 8,
   "metadata": {
    "collapsed": false,
    "deletable": true,
    "editable": true
   },
   "outputs": [],
   "source": [
    "for each_network in network_shapefiles:\n",
    "    point_dictionary = defaultdict(list)\n",
    "    network_name = ap.Describe(local_shapefiles_directory + '\\\\' + each_network).baseName\n",
    "\n",
    "    with ap.da.SearchCursor('%s_dissolved_to_line' % network_name,\n",
    "                        ['SHAPE@', 'OID@'],\n",
    "                        '',\n",
    "                        spatial_reference\n",
    "                        ) as angle_cursor:\n",
    "        \n",
    "        for each_line in angle_cursor:\n",
    "            the_lines = of_the_line = each_line[0]\n",
    "            line_id = each_line[1]\n",
    "            \n",
    "            point_dictionary[coordinates_of(the_lines.firstPoint)].append((angle_of_first_10m(of_the_line), line_id)) \n",
    "            point_dictionary[coordinates_of(the_lines.lastPoint)].append((angle_of_last_10m(of_the_line), line_id))\n",
    " \n",
    "\n",
    "    select_overpasses = '\"FID_%s\" IN %s' % (network_name, tuple(overpass_dictionary[network_name]))\n",
    "    \n",
    "    ap.SelectLayerByAttribute_management('%s_to_line_lyr' % network_name, \n",
    "                                         'NEW_SELECTION',\n",
    "                                         select_overpasses)\n",
    "    \n",
    "    with ap.da.SearchCursor('%s_to_line_lyr' % network_name,\n",
    "                        ['SHAPE@'],\n",
    "                        '',\n",
    "                        spatial_reference) as cursor_for_overpasses:\n",
    "        \n",
    "        for each_line in cursor_for_overpasses:\n",
    "            the_lines = of_the_line = each_line[0]\n",
    "         \n",
    "            if coordinates_of(the_lines.firstPoint) in point_dictionary.keys():\n",
    "                point_dictionary[coordinates_of(the_lines.firstPoint)].append(angle_of_first_10m(of_the_line)) \n",
    "    \n",
    "            \n",
    "            if coordinates_of(the_lines.lastPoint) in point_dictionary.keys():\n",
    "                point_dictionary[coordinates_of(the_lines.lastPoint)].append(angle_of_last_10m(of_the_line)) \n",
    "                \n",
    "          \n",
    "    with ap.da.InsertCursor('%s_crossings' % network_name, \n",
    "                           ['SHAPE@XY', \n",
    "                            '%s_dissolved_angles' % network_name[:3],\n",
    "                            '%s_dissolved_ids' % network_name[:3],\n",
    "                            '%s_intersections' % network_name[:3],\n",
    "                            '%s_overpasses' % network_name[:3]]) as cursor_for_points_with_angles:\n",
    "        \n",
    "        for each_point in point_dictionary.items():\n",
    "            point = ap.CreateObject(\"Point\")\n",
    "            point.X, point.Y = float(each_point[0][0]), float(each_point[0][1])\n",
    "            \n",
    "            crossings = []\n",
    "            link_ids = []\n",
    "            overpasses = []\n",
    "            intersections = []\n",
    "            \n",
    "            for each_link in each_point[1]:        \n",
    "                try:    \n",
    "                    if len(each_link) == 2:\n",
    "                        crossings.append(each_link[0])\n",
    "                        link_ids.append(each_link[1])\n",
    "                    \n",
    "                except:\n",
    "                    overpasses.append(each_link)\n",
    "            \n",
    "            if crossings != overpasses:\n",
    "                intersections = [x for x in crossings if x not in overpasses]\n",
    "                \n",
    "            else:\n",
    "                intersections = []\n",
    "                \n",
    "            cursor_for_points_with_angles.insertRow([point] + \n",
    "                \n",
    "                [str(crossings),\n",
    "                str(link_ids),\n",
    "                str(sorted(intersections)), \n",
    "                str(sorted(overpasses))])\n",
    "    \n",
    "    ap.Delete_management( '%s_to_line_lyr' % network_name)\n",
    "    del point_dictionary\n",
    "    del overpass_dictionary[network_name]\n",
    "\n",
    "del overpass_dictionary"
   ]
  },
  {
   "cell_type": "code",
   "execution_count": 12,
   "metadata": {
    "collapsed": false,
    "deletable": true,
    "editable": true
   },
   "outputs": [],
   "source": [
    "for a in network_shapefiles:\n",
    "    network_name = ap.Describe(local_shapefiles_directory + '\\\\' + a).baseName\n",
    "    try:\n",
    "        ap.MakeFeatureLayer_management('%s_crossings' % network_name,\n",
    "                                   '%s_crossings_lyr' % network_name)\n",
    "    \n",
    "    except:\n",
    "        pass\n",
    "    \n",
    "try:\n",
    "    ap.GenerateNearTable_analysis(\"DTD_2010_Links_directions_crossings_lyr\", \n",
    "                                  \"NavStreets_CDOT_TMC14Q1_WM84_crossings_lyr\", \n",
    "                                  'DTD_2010_Links_directions_crossings_Near_NavStreets_CDOT_TMC14Q1_WM84_crossings', \n",
    "                                  \"50 Meters\", \n",
    "                                  \"NO_LOCATION\", \n",
    "                                  \"ANGLE\", \n",
    "                                  \"ALL\", \n",
    "                                  \"0\", \n",
    "                                  \"PLANAR\")\n",
    "except:\n",
    "    pass\n",
    "\n",
    "for fields in ['matched_Nav_angles', \n",
    "               'matched_DTD_angles', \n",
    "               'matched_Nav_angle_to_matched_DTD_angle', \n",
    "               'matched_Nav_id_to_matched_DTD_id', \n",
    "               'matched_notes']:\n",
    "    try:\n",
    "        ap.AddField_management('DTD_2010_Links_directions_crossings_Near_NavStreets_CDOT_TMC14Q1_WM84_crossings', \n",
    "                          fields, \n",
    "                          'TEXT')\n",
    "    except:\n",
    "        pass\n",
    "\n",
    "ap.JoinField_management(\"DTD_2010_Links_directions_crossings_Near_NavStreets_CDOT_TMC14Q1_WM84_crossings\", \n",
    "                        \"IN_FID\", \n",
    "                        \"DTD_2010_Links_directions_crossings\", \n",
    "                        \"OBJECTID\", \n",
    "                        '''DTD_crossings;DTD_crossings_link_id;\n",
    "                        DTD_intersections;\n",
    "                        DTD_overpasses;\n",
    "                        DTD_dissolved_angles;\n",
    "                        DTD_dissolved_ids''')\n",
    "\n",
    "\n",
    "ap.JoinField_management(\"DTD_2010_Links_directions_crossings_Near_NavStreets_CDOT_TMC14Q1_WM84_crossings\",\n",
    "                           \"OBJECTID\", \n",
    "                           \"NavStreets_CDOT_TMC14Q1_WM84_crossings\",\n",
    "                           \"OBJECTID\", \n",
    "                           '''Nav_crossings;\n",
    "                           Nav_crossings_link_id;\n",
    "                           Nav_intersections;\n",
    "                           Nav_overpasses;\n",
    "                           Nav_dissolved_angles;\n",
    "                           Nav_dissolved_ids''')\n",
    "\n",
    "\n",
    "for a in network_shapefiles:\n",
    "    network_name = ap.Describe(local_shapefiles_directory + '\\\\' + a).baseName\n",
    "    try:\n",
    "        ap.Delete_management('%s_crossings_lyr' % network_name)\n",
    "                                   \n",
    "    except:\n",
    "        pass\n"
   ]
  },
  {
   "cell_type": "code",
   "execution_count": null,
   "metadata": {
    "collapsed": false,
    "deletable": true,
    "editable": true
   },
   "outputs": [],
   "source": [
    "network_name"
   ]
  },
  {
   "cell_type": "code",
   "execution_count": null,
   "metadata": {
    "collapsed": false,
    "deletable": true,
    "editable": true
   },
   "outputs": [],
   "source": [
    "sorted(each_point[1][: each_point[1].index('i')])\n"
   ]
  },
  {
   "cell_type": "code",
   "execution_count": null,
   "metadata": {
    "collapsed": false,
    "deletable": true,
    "editable": true
   },
   "outputs": [],
   "source": [
    "ap.MakeFeatureLayer_management('%s_to_line' % network_name,\n",
    "                                   '%s_to_line_lyr' % network_name)"
   ]
  },
  {
   "cell_type": "code",
   "execution_count": null,
   "metadata": {
    "collapsed": false,
    "deletable": true,
    "editable": true
   },
   "outputs": [],
   "source": [
    "Counter(sorted(each_point[1][: each_point[1].index('i')]))"
   ]
  },
  {
   "cell_type": "code",
   "execution_count": null,
   "metadata": {
    "collapsed": false,
    "deletable": true,
    "editable": true
   },
   "outputs": [],
   "source": [
    "del point_dictionary"
   ]
  },
  {
   "cell_type": "code",
   "execution_count": null,
   "metadata": {
    "collapsed": true,
    "deletable": true,
    "editable": true
   },
   "outputs": [],
   "source": [
    "import sys"
   ]
  },
  {
   "cell_type": "code",
   "execution_count": null,
   "metadata": {
    "collapsed": false,
    "deletable": true,
    "editable": true
   },
   "outputs": [],
   "source": [
    "sys.getsizeof(point_dictionary)"
   ]
  },
  {
   "cell_type": "code",
   "execution_count": null,
   "metadata": {
    "collapsed": false,
    "deletable": true,
    "editable": true
   },
   "outputs": [],
   "source": [
    "[x for x in crossings if x not in overpasses]\n"
   ]
  },
  {
   "cell_type": "raw",
   "metadata": {
    "deletable": true,
    "editable": true
   },
   "source": [
    "crossings"
   ]
  },
  {
   "cell_type": "code",
   "execution_count": null,
   "metadata": {
    "collapsed": false,
    "deletable": true,
    "editable": true
   },
   "outputs": [],
   "source": [
    "crossings"
   ]
  },
  {
   "cell_type": "code",
   "execution_count": null,
   "metadata": {
    "collapsed": false,
    "deletable": true,
    "editable": true
   },
   "outputs": [],
   "source": [
    "overpasses"
   ]
  },
  {
   "cell_type": "raw",
   "metadata": {
    "collapsed": true,
    "deletable": true,
    "editable": true
   },
   "source": [
    "each_point"
   ]
  },
  {
   "cell_type": "code",
   "execution_count": null,
   "metadata": {
    "collapsed": false,
    "deletable": true,
    "editable": true
   },
   "outputs": [],
   "source": [
    "sorted(overpasses)\n"
   ]
  },
  {
   "cell_type": "code",
   "execution_count": 10,
   "metadata": {
    "collapsed": false,
    "deletable": true,
    "editable": true
   },
   "outputs": [
    {
     "data": {
      "text/plain": [
       "<Result 'C:\\\\Users\\\\mcintyrei\\\\Documents\\\\ArcGIS\\\\Default.gdb\\\\DTD_2010_Links_directions_near_Nav'>"
      ]
     },
     "execution_count": 10,
     "metadata": {},
     "output_type": "execute_result"
    }
   ],
   "source": [
    "for a in network_shapefiles:\n",
    "    network_name = ap.Describe(local_shapefiles_directory + '\\\\' + a).baseName\n",
    "    try:\n",
    "        ap.MakeFeatureLayer_management('%s_crossings' % network_name,\n",
    "                                   '%s_crossings_lyr' % network_name)\n",
    "    \n",
    "    except:\n",
    "        pass\n",
    "\n",
    "ap.GenerateNearTable_analysis(\"DTD_2010_Links_directions_crossings_lyr\", \"NavStreets_CDOT_TMC14Q1_WM84_crossings_lyr\", \"C:/Users/mcintyrei/Documents/ArcGIS/Default.gdb/DTD_2010_Links_directions_near_Nav\", \"50 Meters\", \"NO_LOCATION\", \"ANGLE\", \"ALL\", \"0\", \"PLANAR\")"
   ]
  },
  {
   "cell_type": "code",
   "execution_count": null,
   "metadata": {
    "collapsed": true
   },
   "outputs": [],
   "source": []
  }
 ],
 "metadata": {
  "kernelspec": {
   "display_name": "Python 2",
   "language": "python",
   "name": "python2"
  },
  "language_info": {
   "codemirror_mode": {
    "name": "ipython",
    "version": 2
   },
   "file_extension": ".py",
   "mimetype": "text/x-python",
   "name": "python",
   "nbconvert_exporter": "python",
   "pygments_lexer": "ipython2",
   "version": "2.7.8"
  }
 },
 "nbformat": 4,
 "nbformat_minor": 2
}
