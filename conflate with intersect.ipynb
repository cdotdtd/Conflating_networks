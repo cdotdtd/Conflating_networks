{
 "cells": [
  {
   "cell_type": "code",
   "execution_count": 1,
   "metadata": {
    "collapsed": false
   },
   "outputs": [
    {
     "ename": "RuntimeError",
     "evalue": "NotInitialized",
     "output_type": "error",
     "traceback": [
      "\u001b[1;31m---------------------------------------------------------------------------\u001b[0m",
      "\u001b[1;31mRuntimeError\u001b[0m                              Traceback (most recent call last)",
      "\u001b[1;32m<ipython-input-1-d4e6183066af>\u001b[0m in \u001b[0;36m<module>\u001b[1;34m()\u001b[0m\n\u001b[1;32m----> 1\u001b[1;33m \u001b[1;32mimport\u001b[0m \u001b[0marcpy\u001b[0m \u001b[1;32mas\u001b[0m \u001b[0map\u001b[0m\u001b[1;33m\u001b[0m\u001b[0m\n\u001b[0m\u001b[0;32m      2\u001b[0m \u001b[1;32mimport\u001b[0m \u001b[0mos\u001b[0m\u001b[1;33m\u001b[0m\u001b[0m\n\u001b[0;32m      3\u001b[0m \u001b[1;32mimport\u001b[0m \u001b[0mcmath\u001b[0m\u001b[1;33m\u001b[0m\u001b[0m\n\u001b[0;32m      4\u001b[0m \u001b[1;32mfrom\u001b[0m \u001b[0mcollections\u001b[0m \u001b[1;32mimport\u001b[0m \u001b[0mdefaultdict\u001b[0m\u001b[1;33m\u001b[0m\u001b[0m\n",
      "\u001b[1;32mD:\\Program Files (x86)\\ArcGIS\\Desktop10.4\\ArcPy\\arcpy\\__init__.py\u001b[0m in \u001b[0;36m<module>\u001b[1;34m()\u001b[0m\n\u001b[0;32m     20\u001b[0m \u001b[1;32mimport\u001b[0m \u001b[0mnumpy\u001b[0m\u001b[1;33m\u001b[0m\u001b[0m\n\u001b[0;32m     21\u001b[0m \u001b[1;33m\u001b[0m\u001b[0m\n\u001b[1;32m---> 22\u001b[1;33m \u001b[1;32mfrom\u001b[0m \u001b[0marcpy\u001b[0m\u001b[1;33m.\u001b[0m\u001b[0mgeoprocessing\u001b[0m \u001b[1;32mimport\u001b[0m \u001b[0mgp\u001b[0m\u001b[1;33m\u001b[0m\u001b[0m\n\u001b[0m\u001b[0;32m     23\u001b[0m \u001b[1;32mfrom\u001b[0m \u001b[0marcpy\u001b[0m\u001b[1;33m.\u001b[0m\u001b[0mgeoprocessing\u001b[0m \u001b[1;32mimport\u001b[0m \u001b[0menv\u001b[0m\u001b[1;33m\u001b[0m\u001b[0m\n\u001b[0;32m     24\u001b[0m \u001b[1;32mfrom\u001b[0m \u001b[0marcpy\u001b[0m\u001b[1;33m.\u001b[0m\u001b[0mgeoprocessing\u001b[0m\u001b[1;33m.\u001b[0m\u001b[0m_base\u001b[0m \u001b[1;32mimport\u001b[0m \u001b[0mgptooldoc\u001b[0m \u001b[1;32mas\u001b[0m \u001b[0m_gptooldoc\u001b[0m\u001b[1;33m\u001b[0m\u001b[0m\n",
      "\u001b[1;32mD:\\Program Files (x86)\\ArcGIS\\Desktop10.4\\ArcPy\\arcpy\\geoprocessing\\__init__.py\u001b[0m in \u001b[0;36m<module>\u001b[1;34m()\u001b[0m\n\u001b[0;32m     12\u001b[0m \u001b[1;31m#\u001b[0m\u001b[1;33m\u001b[0m\u001b[1;33m\u001b[0m\u001b[0m\n\u001b[0;32m     13\u001b[0m \u001b[1;31m#email: contracts@esri.com\u001b[0m\u001b[1;33m\u001b[0m\u001b[1;33m\u001b[0m\u001b[0m\n\u001b[1;32m---> 14\u001b[1;33m \u001b[1;32mfrom\u001b[0m \u001b[0m_base\u001b[0m \u001b[1;32mimport\u001b[0m \u001b[1;33m*\u001b[0m\u001b[1;33m\u001b[0m\u001b[0m\n\u001b[0m",
      "\u001b[1;32mD:\\Program Files (x86)\\ArcGIS\\Desktop10.4\\ArcPy\\arcpy\\geoprocessing\\_base.py\u001b[0m in \u001b[0;36m<module>\u001b[1;34m()\u001b[0m\n\u001b[0;32m    606\u001b[0m \u001b[1;33m\u001b[0m\u001b[0m\n\u001b[0;32m    607\u001b[0m \u001b[0mgp\u001b[0m \u001b[1;33m=\u001b[0m \u001b[0mGeoprocessor\u001b[0m\u001b[1;33m(\u001b[0m\u001b[1;33m)\u001b[0m\u001b[1;33m\u001b[0m\u001b[0m\n\u001b[1;32m--> 608\u001b[1;33m \u001b[0menv\u001b[0m \u001b[1;33m=\u001b[0m \u001b[0mGPEnvironments\u001b[0m\u001b[1;33m(\u001b[0m\u001b[0mgp\u001b[0m\u001b[1;33m)\u001b[0m\u001b[1;33m\u001b[0m\u001b[0m\n\u001b[0m",
      "\u001b[1;32mD:\\Program Files (x86)\\ArcGIS\\Desktop10.4\\ArcPy\\arcpy\\geoprocessing\\_base.py\u001b[0m in \u001b[0;36mGPEnvironments\u001b[1;34m(geoprocessor)\u001b[0m\n\u001b[0;32m    603\u001b[0m             \u001b[0mself\u001b[0m\u001b[1;33m.\u001b[0m\u001b[0m_refresh\u001b[0m\u001b[1;33m(\u001b[0m\u001b[1;33m)\u001b[0m\u001b[1;33m\u001b[0m\u001b[0m\n\u001b[0;32m    604\u001b[0m             \u001b[1;32mreturn\u001b[0m \u001b[0mret_\u001b[0m\u001b[1;33m\u001b[0m\u001b[0m\n\u001b[1;32m--> 605\u001b[1;33m     \u001b[1;32mreturn\u001b[0m \u001b[0mGPEnvironment\u001b[0m\u001b[1;33m(\u001b[0m\u001b[0mgeoprocessor\u001b[0m\u001b[1;33m)\u001b[0m\u001b[1;33m\u001b[0m\u001b[0m\n\u001b[0m\u001b[0;32m    606\u001b[0m \u001b[1;33m\u001b[0m\u001b[0m\n\u001b[0;32m    607\u001b[0m \u001b[0mgp\u001b[0m \u001b[1;33m=\u001b[0m \u001b[0mGeoprocessor\u001b[0m\u001b[1;33m(\u001b[0m\u001b[1;33m)\u001b[0m\u001b[1;33m\u001b[0m\u001b[0m\n",
      "\u001b[1;32mD:\\Program Files (x86)\\ArcGIS\\Desktop10.4\\ArcPy\\arcpy\\geoprocessing\\_base.py\u001b[0m in \u001b[0;36m__init__\u001b[1;34m(self, gp)\u001b[0m\n\u001b[0;32m    559\u001b[0m             \u001b[0mself\u001b[0m\u001b[1;33m.\u001b[0m\u001b[0m_environments\u001b[0m \u001b[1;33m=\u001b[0m \u001b[0mset\u001b[0m\u001b[1;33m(\u001b[0m\u001b[1;33m)\u001b[0m\u001b[1;33m\u001b[0m\u001b[0m\n\u001b[0;32m    560\u001b[0m             \u001b[0mself\u001b[0m\u001b[1;33m.\u001b[0m\u001b[0m_gp\u001b[0m \u001b[1;33m=\u001b[0m \u001b[0mgp\u001b[0m\u001b[1;33m.\u001b[0m\u001b[0m_gp\u001b[0m\u001b[1;33m\u001b[0m\u001b[0m\n\u001b[1;32m--> 561\u001b[1;33m             \u001b[0mself\u001b[0m\u001b[1;33m.\u001b[0m\u001b[0m_refresh\u001b[0m\u001b[1;33m(\u001b[0m\u001b[1;33m)\u001b[0m\u001b[1;33m\u001b[0m\u001b[0m\n\u001b[0m\u001b[0;32m    562\u001b[0m         \u001b[1;32mdef\u001b[0m \u001b[0m_refresh\u001b[0m\u001b[1;33m(\u001b[0m\u001b[0mself\u001b[0m\u001b[1;33m)\u001b[0m\u001b[1;33m:\u001b[0m\u001b[1;33m\u001b[0m\u001b[0m\n\u001b[0;32m    563\u001b[0m             \u001b[0menvset\u001b[0m \u001b[1;33m=\u001b[0m \u001b[1;33m(\u001b[0m\u001b[0mset\u001b[0m\u001b[1;33m(\u001b[0m\u001b[0menv\u001b[0m \u001b[1;32mfor\u001b[0m \u001b[0menv\u001b[0m \u001b[1;32min\u001b[0m \u001b[0mself\u001b[0m\u001b[1;33m.\u001b[0m\u001b[0m_gp\u001b[0m\u001b[1;33m.\u001b[0m\u001b[0mlistEnvironments\u001b[0m\u001b[1;33m(\u001b[0m\u001b[1;33m)\u001b[0m\u001b[1;33m)\u001b[0m\u001b[1;33m)\u001b[0m\u001b[1;33m\u001b[0m\u001b[0m\n",
      "\u001b[1;32mD:\\Program Files (x86)\\ArcGIS\\Desktop10.4\\ArcPy\\arcpy\\geoprocessing\\_base.py\u001b[0m in \u001b[0;36m_refresh\u001b[1;34m(self)\u001b[0m\n\u001b[0;32m    561\u001b[0m             \u001b[0mself\u001b[0m\u001b[1;33m.\u001b[0m\u001b[0m_refresh\u001b[0m\u001b[1;33m(\u001b[0m\u001b[1;33m)\u001b[0m\u001b[1;33m\u001b[0m\u001b[0m\n\u001b[0;32m    562\u001b[0m         \u001b[1;32mdef\u001b[0m \u001b[0m_refresh\u001b[0m\u001b[1;33m(\u001b[0m\u001b[0mself\u001b[0m\u001b[1;33m)\u001b[0m\u001b[1;33m:\u001b[0m\u001b[1;33m\u001b[0m\u001b[0m\n\u001b[1;32m--> 563\u001b[1;33m             \u001b[0menvset\u001b[0m \u001b[1;33m=\u001b[0m \u001b[1;33m(\u001b[0m\u001b[0mset\u001b[0m\u001b[1;33m(\u001b[0m\u001b[0menv\u001b[0m \u001b[1;32mfor\u001b[0m \u001b[0menv\u001b[0m \u001b[1;32min\u001b[0m \u001b[0mself\u001b[0m\u001b[1;33m.\u001b[0m\u001b[0m_gp\u001b[0m\u001b[1;33m.\u001b[0m\u001b[0mlistEnvironments\u001b[0m\u001b[1;33m(\u001b[0m\u001b[1;33m)\u001b[0m\u001b[1;33m)\u001b[0m\u001b[1;33m)\u001b[0m\u001b[1;33m\u001b[0m\u001b[0m\n\u001b[0m\u001b[0;32m    564\u001b[0m             \u001b[1;32mif\u001b[0m \u001b[0menvset\u001b[0m \u001b[1;33m==\u001b[0m \u001b[0mself\u001b[0m\u001b[1;33m.\u001b[0m\u001b[0m_environments\u001b[0m\u001b[1;33m:\u001b[0m\u001b[1;33m\u001b[0m\u001b[0m\n\u001b[0;32m    565\u001b[0m                 \u001b[1;32mreturn\u001b[0m\u001b[1;33m\u001b[0m\u001b[0m\n",
      "\u001b[1;31mRuntimeError\u001b[0m: NotInitialized"
     ]
    }
   ],
   "source": [
    "import arcpy as ap\n",
    "import os\n",
    "import cmath\n",
    "from collections import defaultdict"
   ]
  },
  {
   "cell_type": "code",
   "execution_count": null,
   "metadata": {
    "collapsed": true
   },
   "outputs": [],
   "source": [
    "# function to return coordinates from arc point object\n",
    "def coordinates_of(point_object):\n",
    "    x = round(point_object.X,5)\n",
    "    y = round(point_object.Y,5)\n",
    "\n",
    "    return x,y"
   ]
  },
  {
   "cell_type": "code",
   "execution_count": null,
   "metadata": {
    "collapsed": true
   },
   "outputs": [],
   "source": [
    "def x_meters_as_percentage(of_a_line, x_meters):\n",
    "    of_line_length = of_a_line.length\n",
    "    percentage_of_line = float(x_meters)/float(of_line_length)\n",
    "    \n",
    "    return percentage_of_line\n",
    "\n",
    "\n",
    "def point_x_meters_from_the_start(of_a_line, x_meters):\n",
    "    point_x_meters_from_start = of_a_line.positionAlongLine(x_meters_as_percentage(of_a_line, x_meters), True).firstPoint\n",
    "    \n",
    "    return coordinates_of(point_x_meters_from_start)\n",
    "\n",
    "\n",
    "def point_x_meters_from_the_end(of_a_line, x_meters):\n",
    "    point_10m_from_end = of_a_line.positionAlongLine(1 - x_meters_as_percentage(of_a_line, x_meters), True).firstPoint\n",
    "    \n",
    "    return coordinates_of(point_10m_from_end)"
   ]
  },
  {
   "cell_type": "code",
   "execution_count": null,
   "metadata": {
    "collapsed": true
   },
   "outputs": [],
   "source": [
    "# function to calculate the angle between two sets of coordinatesdef angle_between(first_point_coordinates, last_point_coordinates):\n",
    "def angle_between(point_a_coordinates, point_b_coordinates): \n",
    "    x1, y1 = float(point_a_coordinates[0]), float(point_a_coordinates[1])\n",
    "    x2, y2 = float(point_b_coordinates[0]), float(point_b_coordinates[1])\n",
    "\n",
    "    polarcoords = cmath.polar(complex(x2 - x1, y2 - y1))\n",
    "    \n",
    "    if math.degrees(polarcoords[1]) <= 90:\n",
    "        degrees = 90 - math.degrees(polarcoords[1])\n",
    "    else:\n",
    "        degrees = 450 - math.degrees(polarcoords[1])\n",
    "\n",
    "    return round(degrees, 1)"
   ]
  },
  {
   "cell_type": "code",
   "execution_count": null,
   "metadata": {
    "collapsed": true
   },
   "outputs": [],
   "source": [
    "def GetDifference(b1, b2):\n",
    "    r = (b2 - b1) % 360.0\n",
    "    # Python modulus has same sign as divisor, which is positive here,\n",
    "    # so no need to consider negative case\n",
    "    if r >= 180.0:\n",
    "        r -= 360.0\n",
    "    return abs(r)"
   ]
  },
  {
   "cell_type": "code",
   "execution_count": null,
   "metadata": {
    "collapsed": true
   },
   "outputs": [],
   "source": [
    "def list_to_string(list_of):\n",
    "    list_as_string = str(list_of).replace('[', '').replace(']','').replace(' ','')\n",
    "    \n",
    "    return list_as_string"
   ]
  },
  {
   "cell_type": "code",
   "execution_count": null,
   "metadata": {
    "collapsed": true
   },
   "outputs": [],
   "source": [
    "local_shapefiles_directory = r'F:\\Conflating_Networks\\network_shapefiles'\n",
    "local_geodatabase = r'F:\\Conflating_Networks\\working_files.gdb'\n",
    "local_dir = r'F:\\Conflating_Networks'\n",
    "\n",
    "#local_shapefiles_directory = os.getcwd() + '\\\\network_shapefiles'\n",
    "#local_geodatabase = os.getcwd() + '\\\\working_files.gdb'\n",
    "\n",
    "ap.env.workspace = local_shapefiles_directory\n",
    "network_shapefiles = ap.ListFeatureClasses()\n",
    "\n",
    "ap.SpatialReference(102382)\n",
    "spatial_reference = ap.SpatialReference(102382)\n",
    "\n",
    "ap.env.workspace = local_geodatabase"
   ]
  },
  {
   "cell_type": "code",
   "execution_count": null,
   "metadata": {
    "collapsed": false
   },
   "outputs": [],
   "source": [
    "# creating necesarry files in local geodatabase\n",
    "if ap.Exists(local_geodatabase) == False:\n",
    "    ap.CreateFileGDB_management(local_dir, 'working_files.gdb')\n",
    "    \n",
    "for each_network in network_shapefiles:\n",
    "    network_name = ap.Describe(local_shapefiles_directory + '//' + each_network).baseName\n",
    "    ap.env.workspace = local_geodatabase\n",
    "    \n",
    "        \n",
    "    if ap.Exists('%s_dissolved_to_line' % network_name) == False:       \n",
    "        ap.Dissolve_management(local_shapefiles_directory + '//%s.shp' % network_name, \n",
    "                                   'in_memory\\\\%s_dissolved'% network_name,\n",
    "                                   '',\n",
    "                                   '',\n",
    "                                   'MULTI_PART',\n",
    "                                   'DISSOLVE_LINES')\n",
    "                \n",
    "        ap.FeatureToLine_management('in_memory\\\\%s_dissolved' % network_name,\n",
    "                                            '%s_dissolved_to_line' % network_name)\n",
    "        \n",
    "        ap.Delete_management('in_memory\\\\%s_dissolved' % network_name)\n",
    "    \n",
    "    elif ap.Exists('%s_dissolved_to_line' % network_name) == True:\n",
    "        for field in ['first_10m_angle', 'last_10m_angle', 'ORIG_FID']:\n",
    "        #for field in ['start_to_end_angle','first_10m_angle', 'last_10m_angle', 'ORIG_FID']:\n",
    "            \n",
    "            try:\n",
    "                ap.DeleteField_management('%s_dissolved_to_line_all_pts' % network_name, field)\n",
    "            \n",
    "            except:\n",
    "                pass"
   ]
  },
  {
   "cell_type": "code",
   "execution_count": null,
   "metadata": {
    "collapsed": false
   },
   "outputs": [],
   "source": [
    "for each_network in network_shapefiles: \n",
    "    network_name = ap.Describe(local_shapefiles_directory + '//' + each_network).baseName\n",
    "    \n",
    "    for field in ['first_10m_angle', 'last_10m_angle']:\n",
    "    #for field in ['start_to_end_angle','first_10m_angle', 'last_10m_angle', 'mid_pt']:\n",
    "\n",
    "        if field not in [a.name for a in ap.ListFields('%s_dissolved_to_line' % network_name)]:\n",
    "\n",
    "            ap.AddField_management('%s_dissolved_to_line' % network_name,\n",
    "                                    '%s' % field,\n",
    "                                   'STRING')\n",
    "    \n",
    "    with ap.da.UpdateCursor('%s_dissolved_to_line' % network_name,\n",
    "                           ['SHAPE@',\n",
    "                            'first_10m_angle',\n",
    "                            'last_10m_angle',]) as angle_cursor:\n",
    "        \n",
    "    #with ap.da.UpdateCursor('%s_dissolved_to_line' % network_name,\n",
    "     #                      ['SHAPE@',\n",
    "    #                      'start_to_end_angle',\n",
    "       #                     'first_10m_angle',\n",
    "        #                    'last_10m_angle',\n",
    "         #                   'mid_pt']) as angle_cursor:\n",
    "        \n",
    "        for row in angle_cursor:\n",
    "            line_geometry = of_a_line = row[0]\n",
    "            \n",
    "            first_point = coordinates_of(line_geometry.firstPoint)\n",
    "            last_point = coordinates_of(line_geometry.lastPoint)\n",
    "            \n",
    "            #line_angle = angle_between(first_point, last_point)\n",
    "            \n",
    "            point_10m_from_start = point_x_meters_from_the_start(of_a_line, 10)\n",
    "            first_10m_angle = angle_between(first_point, point_10m_from_start)\n",
    "            \n",
    "            point_10m_from_end = point_x_meters_from_the_end(of_a_line,10)\n",
    "            last_10m_angle = angle_between(last_point, point_10m_from_end)\n",
    "            \n",
    "            #mid_pt = str(coordinates_of(line_geometry.positionAlongLine(.5, True).firstPoint))\n",
    "            \n",
    "            row[1] = first_10m_angle\n",
    "            row[2] = last_10m_angle\n",
    "            #row[1] = line_angle\n",
    "            #row[2] = first_10m_angle\n",
    "            #row[3] = last_10m_angle\n",
    "            #row[4] = mid_pt\n",
    "            \n",
    "            angle_cursor.updateRow(row)\n",
    "    \n",
    "    del angle_cursor    "
   ]
  },
  {
   "cell_type": "markdown",
   "metadata": {},
   "source": []
  },
  {
   "cell_type": "code",
   "execution_count": null,
   "metadata": {
    "collapsed": true
   },
   "outputs": [],
   "source": []
  },
  {
   "cell_type": "code",
   "execution_count": null,
   "metadata": {
    "collapsed": true
   },
   "outputs": [],
   "source": [
    "ap.SpatialJoin_analysis(target_features=\"%s_dissolved_to_line_all_pts\" % network_name, \n",
    "                        join_features=\"%s_dissolved_to_line_start\" % network_name, \n",
    "                        out_feature_class=\"%s_pts_to_start_pts\" % network_name, \n",
    "                        join_operation=\"JOIN_ONE_TO_ONE\", \n",
    "                        join_type=\"KEEP_ALL\", \n",
    "                        field_mapping=\"\"\"start_to_end_angle \"start_to_end_angle\" true true false 255 Text 0 0 ,Join,\",\",%s_dissolved_to_line_start,start_to_end_angle,-1,-1;first_10m_angle \"first_10m_angle\" true true false 255 Text 0 0 ,Join,\",\",%s_dissolved_to_line_start,first_10m_angle,-1,-1\"\"\" % (network_name, network_name), \n",
    "                        match_option=\"INTERSECT\", \n",
    "                        search_radius=\"1 Centimeters\", \n",
    "                        distance_field_name=\"\")\n",
    "\n",
    "\n",
    "ap.Delete_management(\"%s_pts_to_start_pts\" % network_name)\n",
    "\n",
    "for start_and_end in ['START', 'END']:\n",
    "    ap.Delete_management('%s_dissolved_to_line_%s' % (network_name, start_and_end.lower()))"
   ]
  },
  {
   "cell_type": "code",
   "execution_count": null,
   "metadata": {
    "collapsed": true
   },
   "outputs": [],
   "source": [
    "if ap.Exists('%s_to_line' % network_name) == False:       \n",
    "        ap.FeatureToLine_management(local_shapefiles_directory + '//%s.shp' % network_name,\n",
    "                                    '%s_to_line' % network_name)\n",
    "\n",
    "overpass_dictionary = {}\n",
    "\n",
    "for each_network in network_shapefiles:\n",
    "    network_name = ap.Describe(local_shapefiles_directory + '\\\\' + each_network).baseName\n",
    "    \n",
    "    with ap.da.SearchCursor('%s_to_line' % network_name,\n",
    "                        'FID_%s' % network_name,\n",
    "                        sql_clause = (None,'ORDER BY FID_%s' % network_name))as overpass_cursor:\n",
    "        \n",
    "        overpass_dictionary[network_name] = []\n",
    "        last_feature_id = None\n",
    "    \n",
    "        for each_feature in overpass_cursor:\n",
    "            feature_id = each_feature[0]\n",
    "        \n",
    "            if feature_id == last_feature_id:\n",
    "                overpass_dictionary[network_name].append(last_feature_id)\n",
    "                \n",
    "            else:\n",
    "                pass\n",
    "            \n",
    "            last_feature_id = feature_id\n",
    "    try:\n",
    "        ap.MakeFeatureLayer_management('%s_to_line' % network_name,\n",
    "                                   '%s_to_line_lyr' % network_name)\n",
    "    except:\n",
    "        pass"
   ]
  },
  {
   "cell_type": "code",
   "execution_count": null,
   "metadata": {
    "collapsed": false
   },
   "outputs": [],
   "source": [
    "for each_network in network_shapefiles:\n",
    "    network_name = ap.Describe(local_shapefiles_directory + '\\\\' + each_network).baseName\n",
    "\n",
    "    select_overpasses = '\"FID_%s\" IN %s' % (network_name, tuple(overpass_dictionary[network_name]))\n",
    "\n",
    "    ap.SelectLayerByAttribute_management('%s_to_line_lyr' % network_name, \n",
    "                                             'NEW_SELECTION',\n",
    "                                             select_overpasses)\n",
    "    for start_and_end in ['START', 'END']:\n",
    "        ap.FeatureVerticesToPoints_management ('%s_to_line' % network_name,\n",
    "                                            '%s_to_line_%s' % (network_name, start_and_end.lower()), \n",
    "                                            start_and_end)"
   ]
  },
  {
   "cell_type": "code",
   "execution_count": null,
   "metadata": {
    "collapsed": false
   },
   "outputs": [],
   "source": [
    "ap.SpatialJoin_analysis(target_features=\"DTD_2010_Links_directions_dissolved_to_line_all_pts\", \n",
    "                        join_features=\"DTD_2010_Links_directions_dissolved_to_line_start\", \n",
    "                        out_feature_class=\"DTD_spatial_join_with_start1\", \n",
    "                        join_operation=\"JOIN_ONE_TO_ONE\", \n",
    "                        join_type=\"KEEP_ALL\", \n",
    "                        field_mapping=\"\"\"FID_DTD_2010_Links_directions_dissolved \"FID_DTD_2010_Links_directions_dissolved\" true true false 4 Long 0 0 ,First,#,DTD_2010_Links_directions_dissolved_to_line_all_pts,FID_DTD_2010_Links_directions_dissolved,-1,-1;start_to_end_angle \"start_to_end_angle\" true true false 255 Text 0 0 ,Join,\",\",DTD_2010_Links_directions_dissolved_to_line_start,start_to_end_angle,-1,-1;first_10m_angle \"first_10m_angle\" true true false 255 Text 0 0 ,Join,\",\",DTD_2010_Links_directions_dissolved_to_line_start,first_10m_angle,-1,-1;last_10m_angle \"last_10m_angle\" true true false 255 Text 0 0 ,Join,\",\",DTD_2010_Links_directions_dissolved_to_line_start,last_10m_angle,-1,-1\"\"\", \n",
    "                        match_option=\"INTERSECT\", \n",
    "                        search_radius=\"1 Centimeters\", \n",
    "                        distance_field_name=\"\")\n",
    "\n",
    "\n",
    "\n"
   ]
  },
  {
   "cell_type": "code",
   "execution_count": null,
   "metadata": {
    "collapsed": false
   },
   "outputs": [],
   "source": [
    "b = [a.name for a in ap.ListFields('%s_dissolved_to_line_all_pts' % network_name)]\n",
    "\n",
    "for x in b:\n",
    "    print(x)"
   ]
  },
  {
   "cell_type": "code",
   "execution_count": null,
   "metadata": {
    "collapsed": true
   },
   "outputs": [],
   "source": []
  }
 ],
 "metadata": {
  "kernelspec": {
   "display_name": "Python [conda env:arc1041]",
   "language": "python",
   "name": "conda-env-arc1041-py"
  },
  "language_info": {
   "codemirror_mode": {
    "name": "ipython",
    "version": 2
   },
   "file_extension": ".py",
   "mimetype": "text/x-python",
   "name": "python",
   "nbconvert_exporter": "python",
   "pygments_lexer": "ipython2",
   "version": "2.7.10"
  }
 },
 "nbformat": 4,
 "nbformat_minor": 2
}
