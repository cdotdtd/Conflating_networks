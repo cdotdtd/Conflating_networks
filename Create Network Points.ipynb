{
 "cells": [
  {
   "cell_type": "code",
   "execution_count": null,
   "metadata": {
    "collapsed": true
   },
   "outputs": [],
   "source": [
    "# function to return coordinates from arc point object\n",
    "def coordinates_of(point_object):\n",
    "    return (round(point_object.X,6), round(point_object.Y,6))\n",
    "\n",
    "# function to find the compass_bearing between two points\n",
    "def angle_between(first_point_coordinates, last_point_coordinates):\n",
    "    x1, y1 = first_point_coordinates[0] * 1.0, first_point_coordinates[1] * 1.0\n",
    "    x2, y2 = last_point_coordinates[0] * 1.0, last_point_coordinates[1] * 1.0\n",
    "\n",
    "    polarcoords = cmath.polar(complex(x2 - x1, y2 - y1))\n",
    "    if math.degrees(polarcoords[1]) <= 90:\n",
    "        degrees = 90 - math.degrees(polarcoords[1])\n",
    "    else:\n",
    "        degrees = 450 - math.degrees(polarcoords[1])\n",
    "\n",
    "    return round(degrees, 1)\n",
    "\n",
    "\n",
    "#funtion to return coordinates of the point 10 meters from the start of a line:\n",
    "def point_ten_meters_from_start(line_geometry):\n",
    "    pt_ten_meters_from_start = line_geometry.positionAlongLine(\n",
    "        (float(10) / float(line_geometry.length)), True).firstPoint\n",
    "    coordinates_of_pt_10m_from_start = coordinates_of(pt_ten_meters_from_start)\n",
    "    \n",
    "    return coordinates_of_pt_10m_from_start\n",
    "\n",
    "\n",
    "#funtion to return coordinates of the point 10 meters from the end of a line:\n",
    "def point_ten_meters_from_end(line_geometry):\n",
    "    pt_ten_meters_from_end = line_geometry.positionAlongLine(\n",
    "        1 - (float(10) / float(line_geometry.length)), True).firstPoint\n",
    "    coordinates_of_pt_10m_from_end = coordinates_of(pt_ten_meters_from_end)\n",
    "    \n",
    "    return coordinates_of_pt_10m_from_end\n",
    "\n",
    "\n",
    "def angle_of_first_10_meters_of_line(line_geometry):\n",
    "    the_lines = of_the_line = line_geometry\n",
    "    first_point = the_coordinates_of(the_lines.firstPoint)\n",
    "    point_10m_from_start = point_ten_meters_from_start(of_the_line)\n",
    "    angle_of_first_10m_of_line = angle_between(first_point, point_10m_from_start)\n",
    "    \n",
    "    return angle_of_first_10m_of_line\n",
    "\n",
    "\n",
    "def angle_of_last_10_meters_of_line(line_geometry):\n",
    "    the_lines = of_the_line = line_geometry\n",
    "    first_point = the_coordinates_of(the_lines.firstPoint)\n",
    "    point_10m_from_end = point_ten_meters_from_end(of_the_line)\n",
    "    angle_of_last_10m_of_line = angle_between(last_point, point_10m_from_end)\n",
    "    \n",
    "    return angle_of_last_10m_of_line"
   ]
  },
  {
   "cell_type": "markdown",
   "metadata": {},
   "source": [
    "blah blaj blah"
   ]
  }
 ],
 "metadata": {
  "kernelspec": {
   "display_name": "Python 2",
   "language": "python",
   "name": "python2"
  },
  "language_info": {
   "codemirror_mode": {
    "name": "ipython",
    "version": 2.0
   },
   "file_extension": ".py",
   "mimetype": "text/x-python",
   "name": "python",
   "nbconvert_exporter": "python",
   "pygments_lexer": "ipython2",
   "version": "2.7.6"
  }
 },
 "nbformat": 4,
 "nbformat_minor": 0
}