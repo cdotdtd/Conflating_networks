{
 "cells": [
  {
   "cell_type": "markdown",
   "metadata": {},
   "source": [
    "This script is used to create the geodatabase and features needed to analyze the networks and eventually perform the operations necesarry to create a relationship between the networks. The first cell imports the required modules and defines the spatial reference that will be used when createing the feature classes. party party party "
   ]
  },
  {
   "cell_type": "code",
   "execution_count": null,
   "metadata": {
    "collapsed": false,
    "deletable": true,
    "editable": true
   },
   "outputs": [],
   "source": [
    "import os\n",
    "import arcpy as ap\n",
    "\n",
    "ap.SpatialReference(102382)\n",
    "spatial_reference = ap.SpatialReference(102382)\n",
    "ap.env.XYDomain = \"-180 -90 180 90\""
   ]
  },
  {
   "cell_type": "markdown",
   "metadata": {},
   "source": [
    "The shapefiles to be analyzed are to be stored in the network shapefiles directory. If downloaded as a repository from GitHub, or an Anaconda project this directory is located in the same directory as this folder. Finally, this cell creates a list of the shapefiles."
   ]
  },
  {
   "cell_type": "code",
   "execution_count": null,
   "metadata": {},
   "outputs": [],
   "source": [
    "local_shapefiles_directory = os.getcwd() + '\\\\network_shapefiles'\n",
    "local_geodatabase = os.getcwd() + '\\\\working_files.gdb'\n",
    "\n",
    "if ap.Exists(local_geodatabase) == False:\n",
    "    ap.CreateFileGDB_management(os.getcwd(), 'working_files.gdb')\n",
    "\n",
    "ap.env.workspace = local_shapefiles_directory\n",
    "\n",
    "network_shapefiles = ap.ListFeatureClasses()"
   ]
  },
  {
   "cell_type": "markdown",
   "metadata": {},
   "source": [
    "A number of feature classes are required to complete this analysis. First, it's necesarry todetermine where all the actual intersections (and overpasses) are located. THis is accomplished by dissolving the entire network and then performing a feature to line conversion on the dissolved layers, the endpoints of these lines will be used in the next step to define crossings. "
   ]
  },
  {
   "cell_type": "code",
   "execution_count": null,
   "metadata": {
    "collapsed": false,
    "deletable": true,
    "editable": true
   },
   "outputs": [],
   "source": [
    "ap.env.workspace = local_geodatabase\n",
    "\n",
    "for each_network in network_shapefiles:\n",
    "    network_name = ap.Describe(local_shapefiles_directory + '//' + each_network).baseName\n",
    "\n",
    "    if ap.Exists(network_name) == False:\n",
    "        nearby_network_links(local_shapefiles_directory)\n",
    "        ap.FeatureClassToFeatureClass_conversion('%s_lyr' % network_name,\n",
    "                                                 local_geodatabase, \n",
    "                                                 '%s' % network_name,\n",
    "                                                 '',\n",
    "                                                 '',\n",
    "                                                 '')\n",
    "    \n",
    "    if ap.Exists('%s_dissolved_to_line' % network_name) == False:\n",
    "        \n",
    "        ap.Dissolve_management('%s_lyr' % network_name, \n",
    "                                   'in_memory/%s_dissolved'% network_name,\n",
    "                                   '',\n",
    "                                   '',\n",
    "                                   'MULTI_PART',\n",
    "                                   'DISSOLVE_LINES')\n",
    "                \n",
    "        ap.FeatureToLine_management('in_memory/%s_dissolved' % network_name,\n",
    "                                            '%s_dissolved_to_line' % network_name)\n",
    "        \n",
    "        ap.Delete_management('in_memory/%s_dissolved' % network_name)\n",
    "        \n",
    "    if ap.Exists('%s_crossings' % network_name) == False:\n",
    "        ap.CreateFeatureclass_management(local_geodatabase, '%s_crossings' % network_name,\n",
    "                                     'POINT',\n",
    "                                     \"\",\n",
    "                                     \"\",\n",
    "                                     \"\",\n",
    "                                     spatial_reference)\n",
    "    else:\n",
    "        ap.DeleteRows_management('%s_crossings' % network_name)\n",
    "        pass\n",
    "    \n",
    "    add_fields = ['crossings',\n",
    "                  'link_ids',\n",
    "                  'intersections',\n",
    "                  'overpasses',\n",
    "                  ]\n",
    "\n",
    "    network_abbrev = network_name[:3]\n",
    "\n",
    "    for field in add_fields:\n",
    "        try:\n",
    "            ap.AddField_management('%s/%s_crossings' % (local_geodatabase, network_name),\n",
    "                                       '%s_%s' % (network_abbrev, field),\n",
    "                                       'STRING',\n",
    "                                       '',\n",
    "                                       '',\n",
    "                                       '255')\n",
    "        except:\n",
    "            pass"
   ]
  }
 ],
 "metadata": {
  "kernelspec": {
   "display_name": "Python 2",
   "language": "python",
   "name": "python2"
  },
  "language_info": {
   "codemirror_mode": {
    "name": "ipython",
    "version": 2.0
   },
   "file_extension": ".py",
   "mimetype": "text/x-python",
   "name": "python",
   "nbconvert_exporter": "python",
   "pygments_lexer": "ipython2",
   "version": "2.7.8"
  }
 },
 "nbformat": 4,
 "nbformat_minor": 0
}