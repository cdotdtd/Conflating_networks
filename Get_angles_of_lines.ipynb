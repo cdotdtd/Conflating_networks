{
 "cells": [
  {
   "cell_type": "markdown",
   "metadata": {
    "collapsed": true
   },
   "source": [
    "Two sets of points will be created, one of start and end points of the lines at crossings, and another for the start and end points of each of the original lines. "
   ]
  },
  {
   "cell_type": "code",
   "execution_count": null,
   "metadata": {},
   "outputs": [],
   "source": [
    "# function to return coordinates from arc point object\n",
    "def coordinates_of(point_object):\n",
    "    x = round(point_object.X,5)\n",
    "    y = round(point_object.Y,5)\n",
    "    \n",
    "    return x,y\n",
    "\n",
    "#funtion to return coordinates of the point 10 meters from the start of a line:\n",
    "def pt_x_meters_from(number_of_meters_from, start_or_end, of_line_geometry):\n",
    "    if start_or_end == 'start':\n",
    "         pt_x_meters_from = line_geometry.positionAlongLine(\n",
    "             (float(number_of_meters_from) / float(of_line_geometry.length)), True).firstPoint\n",
    "         coordinates_of_pt = coordinates_of(pt_ten_meters_from)\n",
    "    elif start_or_end == 'end':\n",
    "         pt_x_meters_from = line_geometry.positionAlongLine(\n",
    "             (float(number_of_meters_from) / float(of_line_geometry.length)), True).firstPoint\n",
    "         coordinates_of_pt= coordinates_of(pt_ten_meters_from)\n",
    "    else:\n",
    "        print(\"\"\"%s must be string of either 'start' or 'end'\"\"\" % start_or_end)\n",
    "    \n",
    "    return coordinates_of_pt\n",
    "\n",
    "\n",
    "def angle_between(first_point_coordinates, last_point_coordinates):\n",
    "    x1, y1 = first_point_coordinates[0] * 1.0, first_point_coordinates[1] * 1.0\n",
    "    x2, y2 = last_point_coordinates[0] * 1.0, last_point_coordinates[1] * 1.0\n",
    "\n",
    "    polarcoords = cmath.polar(complex(x2 - x1, y2 - y1))\n",
    "    if math.degrees(polarcoords[1]) <= 90:\n",
    "        degrees = 90 - math.degrees(polarcoords[1])\n",
    "    else:\n",
    "        degrees = 450 - math.degrees(polarcoords[1])\n",
    "\n",
    "    return round(degrees, 1)\n"
   ]
  },
  {
   "cell_type": "markdown",
   "metadata": {},
   "source": [
    ""
   ]
  },
  {
   "cell_type": "code",
   "execution_count": null,
   "metadata": {},
   "outputs": [],
   "source": [
    "local_geodatabase = os.getcwd() + '\\\\working_files.gdb'\n",
    "local_shapefiles_directory = os.getcwd() + '\\\\network_shapefiles'\n",
    "ap.env.workspace = local_shapefiles_directory\n",
    "\n",
    "network_shapefiles = ap.ListFeatureClasses()\n",
    "ap.env.workspace = local_geodatabase\n",
    "\n",
    "for each_network in network_shapefiles:\n",
    "    network_name = ap.Describe(local_shapefiles_directory + '//' + each_network).baseName\n",
    "    network_abbrev = network_name[:3]\n",
    "    dissolved_to_line_feature_class = network_name + '_dissolved_to_line'\n",
    "    \n",
    "    add_fields = ['start_angle',\n",
    "                  'end_angle',\n",
    "                  ]\n",
    "\n",
    "    for field in add_fields:\n",
    "        try:\n",
    "            ap.AddField_management('%s_dissolved_to_line' % network_name,\n",
    "                                       '%s_%s' % (network_abbrev, field),\n",
    "                                       'STRING',\n",
    "                                       '',\n",
    "                                       '',\n",
    "                                       '255')\n",
    "        except:\n",
    "            print('field is probably already present')\n",
    "    \n",
    "    with ap.da.UpdateCursor('%s_dissolved_to_line' % network_name,\n",
    "                        ['SHAPE@',\n",
    "                         'start_angle', \n",
    "                         'end_angle']) as angle_cursor:\n",
    "        \n",
    "        for start_and_end_angles in angle_cursor:\n",
    "            the_lines = start_and_end_angles[0]\n",
    "            \n",
    "            start_point = coordinates_of(the_lines.firstPoint)\n",
    "            point_10meters_from_start = pt_x_meters_from(10,'start',the_lines)\n",
    "            start_angle = angle_between(start_point, point_10meters_from_start)\n",
    "            \n",
    "            end_point = coordinates_of(the_lines.lastPoint)\n",
    "            point_10meters_from_end =  pt_x_meters_from(10,'end',the_lines)\n",
    "            end_angle = angle_between(end_point, point_10meters_from_end)\n",
    "            \n",
    "            start_and_end_angles[1:2] = start_angle, end_angle\n",
    "            angle_cursor.updateRow(start_and_end_angles)"
   ]
  }
 ],
 "metadata": {
  "kernelspec": {
   "display_name": "Python 2",
   "language": "python",
   "name": "python2"
  },
  "language_info": {
   "codemirror_mode": {
    "name": "ipython",
    "version": 2.0
   },
   "file_extension": ".py",
   "mimetype": "text/x-python",
   "name": "python",
   "nbconvert_exporter": "python",
   "pygments_lexer": "ipython2",
   "version": "2.7.6"
  }
 },
 "nbformat": 4,
 "nbformat_minor": 0
}